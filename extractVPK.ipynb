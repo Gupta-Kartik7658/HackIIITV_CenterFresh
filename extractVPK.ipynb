{
 "cells": [
  {
   "cell_type": "code",
   "execution_count": 9,
   "id": "04107ee6",
   "metadata": {},
   "outputs": [
    {
     "name": "stderr",
     "output_type": "stream",
     "text": [
      "C:\\Users\\hp\\AppData\\Local\\Temp\\ipykernel_16120\\430891327.py:4: DeprecationWarning: Starting with ImageIO v3 the behavior of this function will switch to that of iio.v3.imread. To keep the current behavior (and make this warning disappear) use `import imageio.v2 as imageio` or call `imageio.v2.imread` directly.\n",
      "  image  = imageio.imread(dds,format='dds')\n"
     ]
    }
   ],
   "source": [
    "import imageio\n",
    "\n",
    "dds = 'DDS/sample_1920×1280.dds'\n",
    "image  = imageio.imread(dds,format='dds')\n",
    "imageio.imwrite('PNG/image.png',image,format='png')"
   ]
  },
  {
   "cell_type": "code",
   "execution_count": 2,
   "id": "f1613a7d",
   "metadata": {},
   "outputs": [
    {
     "name": "stdout",
     "output_type": "stream",
     "text": [
      "✅ Extracted all .vtf files.\n"
     ]
    }
   ],
   "source": [
    "import vpk\n",
    "import os\n",
    "\n",
    "vpk_path = 'VPK/tf2_misc_dir.vpk'\n",
    "output_dir = 'ExtractedVPK/'\n",
    "\n",
    "with vpk.open(vpk_path) as archive:\n",
    "    for file_path in archive:\n",
    "        if file_path.endswith('.vtf'):\n",
    "            print(\"Extracting:\", file_path)\n",
    "            file_data = archive.read_file(file_path)\n",
    "            \n",
    "            file_name = os.path.basename(file_path)\n",
    "            output_path = os.path.join(output_dir, file_name)\n",
    "            with open(output_path, 'wb') as f:\n",
    "                f.write(file_data)\n",
    "\n",
    "print(\"✅ Extracted all .vtf files.\")"
   ]
  },
  {
   "cell_type": "code",
   "execution_count": 8,
   "id": "2c302745",
   "metadata": {},
   "outputs": [
    {
     "name": "stdout",
     "output_type": "stream",
     "text": [
      "🔄 Converting: ExtractedVPK\\\\donev2.vtf\n"
     ]
    }
   ],
   "source": [
    "import os\n",
    "import subprocess\n",
    "\n",
    "vtf_folder = r\"ExtractedVPK\\\\\"\n",
    "png_output = r\"PNG\"\n",
    "vtfcmd_path = r\"vtflib132-bin/bin/x64/VTFCmd.exe\" \n",
    "\n",
    "# Make sure the output folder exists\n",
    "os.makedirs(png_output, exist_ok=True)\n",
    "\n",
    "# Loop through and convert\n",
    "for filename in os.listdir(vtf_folder):\n",
    "    if filename.lower().endswith(\".vtf\"):\n",
    "        input_path = os.path.join(vtf_folder, filename)\n",
    "        print(\"🔄 Converting:\", input_path)\n",
    "        subprocess.run([\n",
    "            vtfcmd_path,\n",
    "            \"-file\", input_path,\n",
    "            \"-output\", png_output,\n",
    "            \"-exportformat\", \"png\"\n",
    "        ])\n"
   ]
  },
  {
   "cell_type": "code",
   "execution_count": 18,
   "id": "3d0847a5",
   "metadata": {},
   "outputs": [
    {
     "name": "stdout",
     "output_type": "stream",
     "text": [
      "Collecting vtf2img\n",
      "  Obtaining dependency information for vtf2img from https://files.pythonhosted.org/packages/78/04/8248534c3b357e0aaceae5b7728ff49e2244bfd8858962cc53ad77716433/vtf2img-0.1.0-py3-none-any.whl.metadata\n",
      "  Downloading vtf2img-0.1.0-py3-none-any.whl.metadata (3.5 kB)\n",
      "Requirement already satisfied: Pillow in c:\\users\\hp\\desktop\\hackiiitv_centerfresh\\retex\\lib\\site-packages (from vtf2img) (11.1.0)\n",
      "Downloading vtf2img-0.1.0-py3-none-any.whl (11 kB)\n",
      "Installing collected packages: vtf2img\n",
      "Successfully installed vtf2img-0.1.0\n",
      "Note: you may need to restart the kernel to use updated packages.\n"
     ]
    },
    {
     "name": "stderr",
     "output_type": "stream",
     "text": [
      "\n",
      "[notice] A new release of pip is available: 23.2.1 -> 25.0.1\n",
      "[notice] To update, run: python.exe -m pip install --upgrade pip\n"
     ]
    }
   ],
   "source": [
    "pip install vtf2img"
   ]
  },
  {
   "cell_type": "code",
   "execution_count": 16,
   "id": "7b920abf",
   "metadata": {},
   "outputs": [
    {
     "name": "stdout",
     "output_type": "stream",
     "text": [
      "Processing ExtractedVPK\\\\sky114.vtf...\n",
      " Information:\n",
      "  Version: v7.5\n",
      "  Size On Disk: 4096.30 KB\n",
      "  Width: 1024\n",
      "  Height: 1024\n",
      "  Depth: 1\n",
      "  Frames: 1\n",
      "  Start Frame: 65535\n",
      "  Faces: 6\n",
      "  Mipmaps: 11\n",
      "  Flags: 0x00004000\n",
      "  Bumpmap Scale: 1.00\n",
      "  Reflectivity: 0.07, 0.01, 0.01\n",
      "  Format: DXT1\n",
      "\n",
      "  Resources: 2\n",
      " Creating texture:\n",
      "  Writing PNG\\sky114.png...\n",
      "  PNG\\sky114.png written.\n",
      "\n",
      "ExtractedVPK\\\\sky114.vtf processed.\n",
      "\n",
      "1/1 files completed.\n",
      "\n",
      "✅ Metadata saved to Metadata/donev2_metadata.json\n"
     ]
    }
   ],
   "source": [
    "import subprocess\n",
    "import re\n",
    "import json\n",
    "\n",
    "vtfcmd_path = r\"vtflib132-bin/bin/x64/VTFCmd.exe\"\n",
    "vtf_file = r\"ExtractedVPK\\\\sky114.vtf\"\n",
    "json_output = r\"Metadata/donev2_metadata.json\"\n",
    "\n",
    "\n",
    "result = subprocess.run(\n",
    "    [vtfcmd_path, \"-file\", vtf_file , \"-output\", png_output ,\"-exportformat\",\"png\"],\n",
    "    stdout=subprocess.PIPE,\n",
    "    stderr=subprocess.PIPE,\n",
    "    text=True  # gets output as string instead of bytes\n",
    ")\n",
    "\n",
    "output = result.stdout\n",
    "print(output)  # you can parse this using regex or string splitting\n",
    "\n",
    "metadata = {}\n",
    "\n",
    "# Simple regex matches\n",
    "patterns = {\n",
    "    \"version\": r\"Version:\\s*v(\\d+\\.\\d+)\",\n",
    "    \"width\": r\"Width:\\s*(\\d+)\",\n",
    "    \"height\": r\"Height:\\s*(\\d+)\",\n",
    "    \"depth\": r\"Depth:\\s*(\\d+)\",\n",
    "    \"frames\": r\"Frames:\\s*(\\d+)\",\n",
    "    \"start_frame\": r\"Start Frame:\\s*(\\d+)\",\n",
    "    \"faces\": r\"Faces:\\s*(\\d+)\",\n",
    "    \"mipmaps\": r\"Mipmaps:\\s*(\\d+)\",\n",
    "    \"flags\": r\"Flags:\\s*(0x[0-9A-Fa-f]+)\",\n",
    "    \"format\": r\"Format:\\s*([^\\n\\r]+)\",\n",
    "    \"reflectivity\": r\"Reflectivity:\\s*([\\d\\.]+),\\s*([\\d\\.]+),\\s*([\\d\\.]+)\"\n",
    "}\n",
    "\n",
    "for key, pattern in patterns.items():\n",
    "    match = re.search(pattern, output)\n",
    "    if match:\n",
    "        if key == \"reflectivity\":\n",
    "            metadata[key] = {\n",
    "                \"r\": float(match.group(1)),\n",
    "                \"g\": float(match.group(2)),\n",
    "                \"b\": float(match.group(3))\n",
    "            }\n",
    "        elif key in [\"width\", \"height\", \"depth\", \"frames\", \"start_frame\", \"faces\", \"mipmaps\"]:\n",
    "            metadata[key] = int(match.group(1))\n",
    "        elif key == \"version\":\n",
    "            metadata[key] = float(match.group(1))\n",
    "        else:\n",
    "            metadata[key] = match.group(1).strip()\n",
    "\n",
    "# Save metadata to JSON\n",
    "import os\n",
    "os.makedirs(os.path.dirname(json_output), exist_ok=True)\n",
    "with open(json_output, \"w\") as f:\n",
    "    json.dump(metadata, f, indent=4)\n",
    "\n",
    "print(\"✅ Metadata saved to\", json_output)\n"
   ]
  },
  {
   "cell_type": "code",
   "execution_count": 21,
   "id": "864b84e4",
   "metadata": {},
   "outputs": [
    {
     "name": "stdout",
     "output_type": "stream",
     "text": [
      "1024 1024\n"
     ]
    }
   ],
   "source": [
    "from vtf2img import Parser\n",
    "\n",
    "\n",
    "vtf_file = \"ExtractedVPK/sky114.vtf\"\n",
    "\n",
    "parser = Parser(vtf_file)\n",
    "header = parser.header\n",
    "\n",
    "print(header.height,header.width)\n",
    "\n",
    "\n",
    "image = parser.get_image()\n",
    "\n",
    "image.show()\n",
    "image.save(\"donev2.png\")"
   ]
  },
  {
   "cell_type": "code",
   "execution_count": null,
   "id": "83734c0c",
   "metadata": {},
   "outputs": [],
   "source": []
  }
 ],
 "metadata": {
  "kernelspec": {
   "display_name": "retex",
   "language": "python",
   "name": "python3"
  },
  "language_info": {
   "codemirror_mode": {
    "name": "ipython",
    "version": 3
   },
   "file_extension": ".py",
   "mimetype": "text/x-python",
   "name": "python",
   "nbconvert_exporter": "python",
   "pygments_lexer": "ipython3",
   "version": "3.12.0"
  }
 },
 "nbformat": 4,
 "nbformat_minor": 5
}
